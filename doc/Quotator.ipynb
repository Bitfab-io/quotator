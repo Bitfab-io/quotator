{
 "cells": [
  {
   "cell_type": "code",
   "execution_count": 39,
   "metadata": {},
   "outputs": [
    {
     "name": "stdout",
     "output_type": "stream",
     "text": [
      "volume = 12.54cm3\n",
      "surface = 131.51cm2\n",
      "is_watertight = True\n",
      "bounding_box_size = [40.         38.00009155 38.50000381]mm\n",
      "number_of_bodies = 2\n"
     ]
    }
   ],
   "source": [
    "import trimesh\n",
    "import os.path\n",
    "\n",
    "file_path_1 = \"/Users/diegotrap/Desktop/otto_body.stl\"\n",
    "file_path_2 = \"/Users/diegotrap/Desktop/CABEZA 1.stl\" #No watertigth\n",
    "file_path_3 = \"/Users/diegotrap/Desktop/otto_legs.stl\" #Several parts\n",
    "file_path_4 = \"/Users/diegotrap/Desktop\" #directory\n",
    "\n",
    "## input\n",
    "mesh = trimesh.load(file_path_3)\n",
    "unit = \"mm\" #mm, cm, in\n",
    "\n",
    "volume = mesh.volume / 1000\n",
    "surface = mesh.area / 100\n",
    "is_watertight = mesh.is_watertight\n",
    "bounding_box_size = mesh.bounding_box.extents\n",
    "number_of_bodies = mesh.split().size\n",
    "    \n",
    "\n",
    "print(\"volume = {:.2f}cm3\".format(volume))\n",
    "print(\"surface = {:.2f}cm2\".format(surface))\n",
    "print(\"is_watertight = {}\".format(is_watertight))\n",
    "print(\"bounding_box_size = {}mm\".format(bounding_box_size))\n",
    "print(\"number_of_bodies = {}\".format(number_of_bodies))\n",
    "\n",
    "#TODO meter trimesh.load en excepción para que si hay algún error nos lo notifique\n",
    "#TODO generar imagen thumbnail\n",
    "#TODO decidir donde van los controles de tamaño, watertight, volumen...\n",
    "#TODO decidir si debemos dar todos los resultados en la unidad original del archivo y después tratar las unidades fuera\n",
    "#TODO no sé como todo esto se mete en un json\n"
   ]
  },
  {
   "cell_type": "markdown",
   "metadata": {},
   "source": [
    "# Quotator classes\n",
    "\n",
    "Sliced volume formula\n",
    "\n",
    "$$V_\\text{sliced} = St + (V-St) \\rho_i $$\n",
    "\n",
    "where\n",
    "\n",
    "* $V_\\text{sliced}$ is the approximate sliced (or printed) volume, `sliced_volume`.\n",
    "* $S$ is the mesh surface, `surface`.\n",
    "* $V$ is the mesh volume, `volume`.\n",
    "* $t$ is the printing shell thickness (or perimeter). We use $t = 1.2\\text{mm}$\n",
    "* $\\rho_i$ is the printing infill ratio, expressed from 0 to 1. We use $\\rho_i = 0.2$\n"
   ]
  },
  {
   "cell_type": "code",
   "execution_count": 40,
   "metadata": {},
   "outputs": [],
   "source": [
    "SHELL_THICKNESS = 0.12 #cm\n",
    "INFILL_RATIO = 0.20\n",
    "\n",
    "DEFAULT_PPCM3 = 0.40 #€\n",
    "FIXED_PRICE_PER_PART = 1.0 #€\n",
    "                    #ppcm3 refers to the sliced volume, not the mesh volume\n",
    "\n",
    "\n",
    "\n",
    "class PartQuotation():\n",
    "    \n",
    "    def __init__(self, path, unit=\"mm\"):\n",
    "        \n",
    "        self.unit = unit\n",
    "        # Setting conversion factors to convert the file units to mm\n",
    "        if unit == \"mm\":\n",
    "            conversion_factor = 1\n",
    "        elif unit == \"cm\":\n",
    "            conversion_factor = 10\n",
    "        elif unit == \"in\":\n",
    "            conversion_factor = 25.4\n",
    "        else:\n",
    "            raise Exception(\"Cannot recognize the unit code argument provided.\")\n",
    "        \n",
    "        # Store the part name\n",
    "        self.name = os.path.basename(path)\n",
    "        \n",
    "        \n",
    "        # Load the mesh in trimesh and extract its parameters\n",
    "        mesh = trimesh.load(path)\n",
    "        \n",
    "        self.volume = mesh.volume*conversion_factor**3 / 1000 #unit: cm3\n",
    "        self.surface = mesh.area*conversion_factor**2 / 100   #unit: cm2\n",
    "        self.is_watertight = mesh.is_watertight\n",
    "        self.bounding_box_size = mesh.bounding_box.extents*conversion_factor #unit: mm\n",
    "        self.number_of_bodies = mesh.split().size\n",
    "        \n",
    "        self.sliced_volume = self.surface*SHELL_THICKNESS + (self.volume - self.surface*SHELL_THICKNESS)*INFILL_RATIO #cm3\n",
    "        \n",
    "    def calculate_price(self, price_per_cm3=DEFAULT_PPCM3):\n",
    "        price = FIXED_PRICE_PER_PART + self.sliced_volume * price_per_cm3\n",
    "        return price\n",
    "        \n",
    "class OrderQuotation:\n",
    "    def add_part_quotation(self, part_quotation):\n",
    "        pass"
   ]
  },
  {
   "cell_type": "markdown",
   "metadata": {},
   "source": [
    "# Quotator function"
   ]
  },
  {
   "cell_type": "code",
   "execution_count": 47,
   "metadata": {},
   "outputs": [
    {
     "name": "stdout",
     "output_type": "stream",
     "text": [
      "otto_legs.stl - 7.05€\n",
      "otto_body.stl - 15.55€\n"
     ]
    }
   ],
   "source": [
    "def quotator(path, unit=\"mm\", price_per_cm3=DEFAULT_PPCM3, debug=False):\n",
    "    \n",
    "    if debug:\n",
    "        print(\"DEBUG INFO: unit = {}\".format(unit))\n",
    "    \n",
    "    # Checking if the path provided is a file or a directory\n",
    "    if os.path.isfile(path) :\n",
    "        if debug:\n",
    "            print(\"DEBUG INFO: `path` is file\".format(unit))        \n",
    "        \n",
    "        quoted_part = PartQuotation(path, unit)\n",
    "        name = quoted_part.name\n",
    "        price = quoted_part.calculate_price(price_per_cm3)\n",
    "        \n",
    "        print(\"{} - {:.2f}€\".format(name, price))\n",
    "    \n",
    "    # if the path is a directory, quote all the files inside\n",
    "    else:\n",
    "        if debug:\n",
    "            print(\"DEBUG INFO: `path` is dir\".format(unit))\n",
    "            \n",
    "        files = os.listdir(path)\n",
    "        \n",
    "        for f in files:\n",
    "            \n",
    "            file_name, extension = os.path.splitext(f)\n",
    "            \n",
    "            if extension == \".stl\":\n",
    "                \n",
    "                # Rebuild the part path\n",
    "                if path[-1] == \"/\":\n",
    "                    part_path = path + f\n",
    "                else:\n",
    "                    part_path = path + \"/\" + f\n",
    "                \n",
    "                \n",
    "                quoted_part = PartQuotation(part_path, unit)\n",
    "                name = quoted_part.name\n",
    "                price = quoted_part.calculate_price(price_per_cm3)\n",
    "        \n",
    "                print(\"{} - {:.2f}€\".format(name, price))\n",
    "        \n",
    "    \n",
    "\n",
    "quotator(file_path_4)"
   ]
  },
  {
   "cell_type": "code",
   "execution_count": null,
   "metadata": {},
   "outputs": [],
   "source": []
  },
  {
   "cell_type": "code",
   "execution_count": null,
   "metadata": {},
   "outputs": [],
   "source": []
  }
 ],
 "metadata": {
  "kernelspec": {
   "display_name": "Python 3",
   "language": "python",
   "name": "python3"
  },
  "language_info": {
   "codemirror_mode": {
    "name": "ipython",
    "version": 3
   },
   "file_extension": ".py",
   "mimetype": "text/x-python",
   "name": "python",
   "nbconvert_exporter": "python",
   "pygments_lexer": "ipython3",
   "version": "3.5.5"
  }
 },
 "nbformat": 4,
 "nbformat_minor": 2
}
